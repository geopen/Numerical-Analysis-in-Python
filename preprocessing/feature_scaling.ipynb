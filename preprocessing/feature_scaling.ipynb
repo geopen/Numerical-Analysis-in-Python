{
 "cells": [
  {
   "cell_type": "markdown",
   "source": [
    "# Feature Scaling\n",
    "Feature scaling, sometimes referred to as normalisation, is the process of transforming data to a common scale. It is an important preprocessing step, and many methods of analysis, will perform poorly if the data's features have not been correctly scaled.  \n",
    "\n",
    "This notebook exhibits the following methods of feature scaling by plotting their effect on data sampled from a uniform distribution:\n",
    "- Standardization (Z-score normalization)\n",
    "- Rescaling (min-max normalization) \n",
    "- Max abs scaling\n",
    "- Unit length scaling\n",
    "- Robust Scaling"
   ],
   "metadata": {}
  },
  {
   "cell_type": "code",
   "execution_count": 115,
   "source": [
    "import numpy as np\n",
    "import matplotlib.pyplot as plt\n",
    "from sklearn.preprocessing import StandardScaler, MinMaxScaler, MaxAbsScaler, Normalizer, RobustScaler"
   ],
   "outputs": [],
   "metadata": {}
  },
  {
   "cell_type": "code",
   "execution_count": 123,
   "source": [
    "# Create Original Unscaled Data: \n",
    "n_data_points = 20\n",
    "range_min = 0 \n",
    "range_max = 4\n",
    "data = np.random.uniform(range_min, range_max, size=(n_data_points, 1))"
   ],
   "outputs": [],
   "metadata": {}
  },
  {
   "cell_type": "markdown",
   "source": [
    "## Standardization (Z-Score Normalisation)\n",
    "Standardization is the most popular method of feature scaling. It is widely used before applying machine learning algorithms, and is a crucial step before principle component analysis (see [https://scikit-learn.org/stable/auto_examples/preprocessing/plot_scaling_importance.html](https://scikit-learn.org/stable/auto_examples/preprocessing/plot_scaling_importance.html)). The process involves transforming each feature of the data such that it has zero mean and unit variance. This is achieved by first calculating the mean and standard deviation, then subtracting the mean from the data point, and finally dividing by the standard deviation. Mathematically,\n",
    "\n",
    "$x^{\\prime} = \\dfrac{x - \\bar{x}}{\\sigma}$,\n",
    "\n",
    "where $x^{\\prime}$ is the scaled value, $x$ is the original value, $\\bar{x}$ is the mean, and $\\sigma$ is the standard deviation. Below, scikit-learn's `StandardScaler` is used."
   ],
   "metadata": {}
  },
  {
   "cell_type": "code",
   "execution_count": 124,
   "source": [
    "# Standardize Data:\n",
    "standard_scaled_data = StandardScaler().fit_transform(np.copy(data))\n",
    "\n",
    "# Verify Variance and Mean:\n",
    "print(f\"Variance of Standardized data is: {np.var(standard_scaled_data)}\")\n",
    "print(f\"Mean of Standardized data is: {np.mean(standard_scaled_data):.6f}\")\n",
    "\n",
    "# Plot:\n",
    "plt.figure(figsize=(6,6))\n",
    "plt.boxplot([standard_scaled_data.reshape(-1), data.reshape(-1)])\n",
    "plt.xticks([1, 2], ['Standardized', 'Original'])\n",
    "plt.grid()\n",
    "plt.show()"
   ],
   "outputs": [
    {
     "output_type": "stream",
     "name": "stdout",
     "text": [
      "Variance of Standardized data is: 1.0\n",
      "Mean of Standardized data is: -0.000000\n"
     ]
    },
    {
     "output_type": "display_data",
     "data": {
      "image/png": "[encoded data removed]",
      "text/plain": [
       "<Figure size 432x432 with 1 Axes>"
      ]
     },
     "metadata": {
      "needs_background": "light"
     }
    }
   ],
   "metadata": {}
  },
  {
   "cell_type": "markdown",
   "source": [
    "## Rescaling (Min-Max Normalisation)\n",
    "Rescaling, also known as min-max normalisation, is probably the simplest method of feature scaling. It transforms each feature of the data such that its range becomes $[0,1]$ (sometimes the range $[-1,1]$ is used instead). This is achieved using the formula,\n",
    "\n",
    "$x^{\\prime} = \\dfrac{x - \\min(x)}{\\max(x) - \\min(x)}$,\n",
    "\n",
    "for scaled value $x^{\\prime}$, and original value $x$. Since only the $\\min$ and $\\max$ of the data is used, this process is determined by outlier values. For example, if there is an abnormal positively valued outlier then the rescaled data will be disproportionately skewed in the positive direction. However, if one simply wants to compare the relative changes of some data at the same scale, then min-max normalisation is appropriate. Below, scikit-learn's `MinMaxScaler` is used."
   ],
   "metadata": {}
  },
  {
   "cell_type": "code",
   "execution_count": 125,
   "source": [
    "# Scale Data:\n",
    "min_max_scaled_data = MinMaxScaler().fit_transform(np.copy(data))\n",
    "\n",
    "# Verify Min and Max:\n",
    "print(f\"Minimum value of rescaled data is: {np.min(min_max_scaled_data)}\")\n",
    "print(f\"Maximum value of rescaled data is: {np.max(min_max_scaled_data)}\")\n",
    "\n",
    "# Plot:\n",
    "plt.figure(figsize=(6,6))\n",
    "plt.boxplot([min_max_scaled_data.reshape(-1), data.reshape(-1)])\n",
    "plt.xticks([1, 2], ['Min-Max Scaled', 'Original'])\n",
    "plt.grid()\n",
    "plt.show()"
   ],
   "outputs": [
    {
     "output_type": "stream",
     "name": "stdout",
     "text": [
      "Minimum value of rescaled data is: 0.0\n",
      "Maximum value of rescaled data is: 1.0\n"
     ]
    },
    {
     "output_type": "display_data",
     "data": {
      "image/png": "[encoded data removed]",
      "text/plain": [
       "<Figure size 432x432 with 1 Axes>"
      ]
     },
     "metadata": {
      "needs_background": "light"
     }
    }
   ],
   "metadata": {}
  },
  {
   "cell_type": "markdown",
   "source": [
    "## Max Abs Scaling\n",
    "Max abs scaling, short for maximum absolute value scaling, transforms the data such that the maximum absolute value found for any feature is 1.0. Put mathematically,\n",
    "\n",
    "$x^{\\prime} = \\dfrac{x}{\\max(|x|)}$,\n",
    "\n",
    "for original value $x$ and scaled value $x^{\\prime}$. While this method is influenced by outliers it does not shift the data, and so preserves any sparsity in the data. As such, max abs scaling can be appropriate for sparse datasets. Below, scikit-learns' `MaxAbsScaler` is used."
   ],
   "metadata": {}
  },
  {
   "cell_type": "code",
   "execution_count": 126,
   "source": [
    "# Scale Data:\n",
    "max_abs_scaled_data = MaxAbsScaler().fit_transform(np.copy(data))\n",
    "\n",
    "# Verify :\n",
    "print(f\"Maximum value of rescaled data is: {np.max(max_abs_scaled_data)}\")\n",
    "\n",
    "# Plot:\n",
    "plt.figure(figsize=(6,6))\n",
    "plt.boxplot([max_abs_scaled_data.reshape(-1), data.reshape(-1)])\n",
    "plt.xticks([1, 2], ['Max Abs Scaled', 'Original'])\n",
    "plt.grid()\n",
    "plt.show()"
   ],
   "outputs": [
    {
     "output_type": "stream",
     "name": "stdout",
     "text": [
      "Maximum value of rescaled data is: 1.0\n"
     ]
    },
    {
     "output_type": "display_data",
     "data": {
      "image/png": "[encoded data removed]",
      "text/plain": [
       "<Figure size 432x432 with 1 Axes>"
      ]
     },
     "metadata": {
      "needs_background": "light"
     }
    }
   ],
   "metadata": {}
  },
  {
   "cell_type": "markdown",
   "source": [
    "## Unit Length Scaling\n",
    "This method of scaling transforms the data by scaling each value by the norm (the length of a vector). As such,\n",
    "\n",
    "$x^{\\prime} = \\dfrac{x}{||x||}$,\n",
    "\n",
    "where $x$ is the original value, $x^\\prime$ is the scaled value, and $||x||$ is the norm. By default, the L2 norm is selected but the keyword argument `norm` allows another norm, such as L1, to be specified. Below, scikit-learn's `Normalizer` is used, where the scaler acts on the rows of a 2D array (so reshaping is required)."
   ],
   "metadata": {}
  },
  {
   "cell_type": "code",
   "execution_count": 127,
   "source": [
    "# Scale Data:\n",
    "unit_length_scaled_data = Normalizer().fit_transform(np.copy(data).reshape(1, n_data_points))\n",
    "\n",
    "# Verify :\n",
    "print(f\"Sum of all squared values in rescaled data is: {np.sum(np.power(unit_length_scaled_data,2)):.4f}\")\n",
    "\n",
    "# Plot:\n",
    "plt.figure(figsize=(6,6))\n",
    "plt.boxplot([unit_length_scaled_data.reshape(-1), data.reshape(-1)])\n",
    "plt.xticks([1, 2], ['Unit Length Scaled', 'Original'])\n",
    "plt.grid()\n",
    "plt.show()"
   ],
   "outputs": [
    {
     "output_type": "stream",
     "name": "stdout",
     "text": [
      "Sum of all squared values in rescaled data is: 1.0000\n"
     ]
    },
    {
     "output_type": "display_data",
     "data": {
      "image/png": "[encoded data removed]",
      "text/plain": [
       "<Figure size 432x432 with 1 Axes>"
      ]
     },
     "metadata": {
      "needs_background": "light"
     }
    }
   ],
   "metadata": {}
  },
  {
   "cell_type": "markdown",
   "source": [
    "## Robust Scaling\n",
    "Robust scaling is a method that aims to be robust against outlier values. It works by shifting the data by the median and scaling according to a specified quantile range (by default this is the range between the 25th and 75th quantiles). Mathematically, \n",
    "\n",
    "$x^{\\prime} = \\dfrac{x - \\text{median}(x)}{x_{75} - x_{25}}$,\n",
    "\n",
    "were $x^{\\prime}$ is the scaled value, $x$ is the original value, $\\text{median}(x)$ is the median value, and $x_{25}$ and $x_{75}$ are the 25th and 75th quantiles respectively. By using the median and a quantile range that covers the bulk of the data, any outlier values do not factor into the transform of the data. Below, scikit-learn's `RobustScaler` is used. Since this function operates on the columns of a 2D array (so data may require reshaping)."
   ],
   "metadata": {}
  },
  {
   "cell_type": "code",
   "execution_count": 128,
   "source": [
    "# Scale Data:\n",
    "robust_scaled_data = RobustScaler().fit_transform(np.copy(data).reshape(n_data_points, 1))\n",
    "\n",
    "# Plot:\n",
    "plt.figure(figsize=(6,6))\n",
    "plt.boxplot([robust_scaled_data.reshape(-1), data.reshape(-1)])\n",
    "plt.xticks([1, 2], ['Robust Scaled', 'Original'])\n",
    "plt.grid()\n",
    "plt.show()"
   ],
   "outputs": [
    {
     "output_type": "display_data",
     "data": {
      "image/png": "[encoded data removed]",
      "text/plain": [
       "<Figure size 432x432 with 1 Axes>"
      ]
     },
     "metadata": {
      "needs_background": "light"
     }
    }
   ],
   "metadata": {}
  },
  {
   "cell_type": "markdown",
   "source": [
    "## Comparison\n",
    "Finally, a comparison of all the methods above is shown. "
   ],
   "metadata": {}
  },
  {
   "cell_type": "code",
   "execution_count": 129,
   "source": [
    "plt.figure(figsize=(10,6))\n",
    "plt.boxplot([\n",
    "    data.reshape(-1), standard_scaled_data.reshape(-1), min_max_scaled_data.reshape(-1), \n",
    "    max_abs_scaled_data.reshape(-1), unit_length_scaled_data.reshape(-1), robust_scaled_data.reshape(-1)\n",
    "])\n",
    "plt.xticks([1, 2, 3, 4, 5, 6], ['Original', 'Standardized', 'Min-Max Scaled', 'Max Abs Scaled', 'Unit Length Scaled', 'Robust Scaled'])\n",
    "plt.grid()\n",
    "plt.show()"
   ],
   "outputs": [
    {
     "output_type": "display_data",
     "data": {
      "image/png": "[encoded data removed]",
      "text/plain": [
       "<Figure size 720x432 with 1 Axes>"
      ]
     },
     "metadata": {
      "needs_background": "light"
     }
    }
   ],
   "metadata": {}
  }
 ],
 "metadata": {
  "orig_nbformat": 4,
  "language_info": {
   "name": "python",
   "version": "3.9.7",
   "mimetype": "text/x-python",
   "codemirror_mode": {
    "name": "ipython",
    "version": 3
   },
   "pygments_lexer": "ipython3",
   "nbconvert_exporter": "python",
   "file_extension": ".py"
  },
  "kernelspec": {
   "name": "python3",
   "display_name": "Python 3.9.7 64-bit"
  },
  "interpreter": {
   "hash": "aee8b7b246df8f9039afb4144a1f6fd8d2ca17a180786b69acc140d282b71a49"
  }
 },
 "nbformat": 4,
 "nbformat_minor": 2
}